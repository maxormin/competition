{
 "cells": [
  {
   "cell_type": "code",
   "execution_count": 1,
   "metadata": {},
   "outputs": [],
   "source": [
    "import pandas as pd\n",
    "import numpy as np\n",
    "from sklearn.preprocessing import LabelEncoder\n",
    "from sklearn.metrics import f1_score\n",
    "from sklearn.model_selection import StratifiedKFold,KFold,train_test_split\n",
    "from sklearn.linear_model import LinearRegression,LogisticRegression\n",
    "from tqdm import tqdm\n",
    "import pandas_profiling as ppf\n",
    "import xgboost as xgb\n",
    "import lightgbm as lgb\n",
    "import catboost as ctb\n",
    "import matplotlib.pylab as plt\n",
    "from imblearn.over_sampling import SMOTE,ADASYN\n",
    "import warnings\n",
    "warnings.filterwarnings('ignore')"
   ]
  },
  {
   "cell_type": "code",
   "execution_count": 2,
   "metadata": {},
   "outputs": [],
   "source": [
    "data = pd.read_csv('fea_data/data.csv')"
   ]
  },
  {
   "cell_type": "code",
   "execution_count": 3,
   "metadata": {},
   "outputs": [],
   "source": [
    "# data['reccap_mean']=data.groupby('industryphy')['reccap'].transform('mean')"
   ]
  },
  {
   "cell_type": "code",
   "execution_count": 3,
   "metadata": {},
   "outputs": [],
   "source": [
    "# integer_cols = ['empnum','exenum','regcap','reccap','forregcap','use_time','svd_tfidf_positive_negtive_0',\n",
    "# 'svd_tfidf_positive_negtive_1','svd_countvec_positive_negtive_0','svd_countvec_positive_negtive_1']\n",
    "# class_cols = ['compform','venind']"
   ]
  },
  {
   "cell_type": "code",
   "execution_count": 4,
   "metadata": {},
   "outputs": [],
   "source": [
    "# for i in integer_cols:\n",
    "#     train_data=data[~data[i].isnull()]\n",
    "#     test_data=data[data[i].isnull()]\n",
    "#     train_data = train_data.reset_index(drop=True)\n",
    "#     test_data = test_data.reset_index(drop=True)\n",
    "#     fea = [i for i in train_data.columns if i not in ['id','label']]\n",
    "#     clf = ctb.CatBoostRegressor()\n",
    "#     clf.fit(train_data[fea],train_data[i],verbose=False)\n",
    "#     test_data[i] = clf.predict(test_data[fea])\n",
    "#     data=pd.concat([train_data,test_data],ignore_index=True)"
   ]
  },
  {
   "cell_type": "code",
   "execution_count": 5,
   "metadata": {},
   "outputs": [],
   "source": [
    "# for i in class_cols:\n",
    "#     train_data=data[~data[i].isnull()]\n",
    "#     test_data=data[data[i].isnull()]\n",
    "#     train_data = train_data.reset_index(drop=True)\n",
    "#     test_data = test_data.reset_index(drop=True)\n",
    "#     fea = [i for i in train_data.columns if i not in ['id','label']]\n",
    "#     clf = ctb.CatBoostClassifier()\n",
    "#     clf.fit(train_data[fea],train_data[i],verbose=False)\n",
    "#     test_data[i] = clf.predict(test_data[fea])\n",
    "#     data=pd.concat([train_data,test_data],ignore_index=True)"
   ]
  },
  {
   "cell_type": "code",
   "execution_count": 6,
   "metadata": {
    "collapsed": true
   },
   "outputs": [
    {
     "data": {
      "text/plain": [
       "id                                     0\n",
       "oplocdistrict                          0\n",
       "industryphy                            0\n",
       "industryco                             0\n",
       "dom                                    0\n",
       "enttype                                0\n",
       "enttypeitem                            0\n",
       "state                                  0\n",
       "orgid                                  0\n",
       "jobid                                  0\n",
       "adbusign                               0\n",
       "townsign                               0\n",
       "regtype                                0\n",
       "empnum                                 0\n",
       "compform                               0\n",
       "exenum                                 0\n",
       "opform                                 0\n",
       "venind                                 0\n",
       "enttypeminu                            0\n",
       "protype                                0\n",
       "oploc                                  0\n",
       "regcap                                 0\n",
       "reccap                                 0\n",
       "forregcap                              0\n",
       "enttypegb                              0\n",
       "use_time                               0\n",
       "label                              10000\n",
       "svd_tfidf_positive_negtive_0           0\n",
       "svd_tfidf_positive_negtive_1           0\n",
       "svd_countvec_positive_negtive_0        0\n",
       "svd_countvec_positive_negtive_1        0\n",
       "dtype: int64"
      ]
     },
     "execution_count": 6,
     "metadata": {},
     "output_type": "execute_result"
    }
   ],
   "source": [
    "data.isnull().sum()"
   ]
  },
  {
   "cell_type": "code",
   "execution_count": 5,
   "metadata": {
    "collapsed": true
   },
   "outputs": [
    {
     "data": {
      "text/plain": [
       "array([       nan, 0.8172997 , 0.38915962, 0.56543867, 0.99365873,\n",
       "       0.95260465, 0.11090674, 0.2710547 , 0.54937918, 0.57560969,\n",
       "       0.84687341, 0.96441282, 0.59342847, 0.6321604 , 0.62530514,\n",
       "       0.94552128, 0.95980857, 0.66243107, 0.88007249, 0.97520783,\n",
       "       0.74967998, 0.95182521, 0.78256798, 0.98281752, 0.97936476,\n",
       "       0.98857818, 0.91090991, 0.85047591, 0.87482031, 0.92849975,\n",
       "       0.50762736, 0.88376051, 0.9396171 , 0.83240627, 0.41533416,\n",
       "       0.89786136, 0.96207005, 0.86171081, 0.9803081 , 0.92696602,\n",
       "       0.86067328, 0.86862306, 0.46354484, 0.99847325, 0.52564979,\n",
       "       0.99118289, 0.98628625, 0.67726155, 0.99349964, 0.89041605,\n",
       "       0.95048901, 0.5832691 , 0.88789597, 0.79823148, 0.1785735 ,\n",
       "       0.99552561, 0.57167237, 0.96617853, 0.43106325, 0.92283348,\n",
       "       0.63738065, 0.57112028, 0.60717778, 0.98248633, 0.79965233,\n",
       "       0.86567131, 0.57401492, 0.94847528, 0.67868559, 0.60140341,\n",
       "       0.6275692 , 0.57467806, 0.70634657, 0.90456847, 0.77189472,\n",
       "       0.73992323, 0.88186509, 0.99501082, 0.96514117, 0.86439155,\n",
       "       0.95110294, 0.69428558, 0.99215439, 0.87378267, 0.96660455,\n",
       "       0.55313081, 0.15958118, 0.56543867, 0.94130138, 0.86090072,\n",
       "       0.79522607, 0.83207693, 0.95100618, 0.81809091, 0.97800657,\n",
       "       0.56924815, 0.74007502, 0.3882666 , 0.82474615, 0.73768518,\n",
       "       0.99541286, 0.9934034 , 0.61425183, 0.56329404, 0.93136205,\n",
       "       0.85484236, 0.69471155, 0.99373543, 0.9659645 , 0.89374178,\n",
       "       0.67683054, 0.77133964, 0.93085456, 0.91650515, 0.99963346,\n",
       "       0.90100728, 0.76240802, 0.97726448, 0.62384752, 0.71679372,\n",
       "       0.96485347, 0.56526605, 0.14889344, 0.99713968, 0.95105582,\n",
       "       0.96740528, 0.91729782, 0.71398406, 0.99835689, 0.63944793,\n",
       "       0.72684989, 0.57418007, 0.92796616, 0.97272312, 0.86862306,\n",
       "       0.50295488, 0.95465946, 0.9061406 , 0.71222575, 0.88916161,\n",
       "       0.79965104, 0.91532234, 0.89036776, 0.71348155, 0.98688385,\n",
       "       0.33611119, 0.99381164, 0.89987308, 0.99232853, 0.86321247,\n",
       "       0.44715722, 0.38635919, 0.72115489, 0.95218916, 0.84920506,\n",
       "       0.9140029 , 0.83250521, 0.56146824, 0.68915235, 0.85172024,\n",
       "       0.90392354, 0.95880258, 0.60973178, 0.82465611, 0.98048771,\n",
       "       0.87310291, 0.57148337, 0.89425217, 0.84853205, 0.98943478,\n",
       "       0.90180885, 0.9351855 , 0.87482031, 0.62748476, 0.85038692,\n",
       "       0.98412464, 0.82312381, 0.97755493, 0.94823254, 0.99349548,\n",
       "       0.97934285, 0.86785226, 0.88248506, 0.35059191, 0.60392132,\n",
       "       0.96940877, 0.20078404])"
      ]
     },
     "execution_count": 5,
     "metadata": {},
     "output_type": "execute_result"
    }
   ],
   "source": [
    "data['svd_tfidf_positive_negtive_0'].unique()"
   ]
  },
  {
   "cell_type": "code",
   "execution_count": 3,
   "metadata": {
    "collapsed": true
   },
   "outputs": [
    {
     "data": {
      "text/plain": [
       "id                                     0\n",
       "oplocdistrict                          0\n",
       "industryphy                            0\n",
       "industryco                             0\n",
       "dom                                    0\n",
       "enttype                                0\n",
       "enttypeitem                            0\n",
       "state                                  0\n",
       "orgid                                  0\n",
       "jobid                                  0\n",
       "adbusign                               0\n",
       "townsign                               0\n",
       "regtype                                0\n",
       "empnum                              5250\n",
       "compform                           14234\n",
       "exenum                             23487\n",
       "opform                                 0\n",
       "venind                             16428\n",
       "enttypeminu                            0\n",
       "protype                                0\n",
       "oploc                                  0\n",
       "regcap                               191\n",
       "reccap                             17781\n",
       "forregcap                          24615\n",
       "enttypegb                              0\n",
       "use_time                           16040\n",
       "label                              10000\n",
       "svd_tfidf_positive_negtive_0       23938\n",
       "svd_tfidf_positive_negtive_1       23938\n",
       "svd_countvec_positive_negtive_0    23938\n",
       "svd_countvec_positive_negtive_1    23938\n",
       "dtype: int64"
      ]
     },
     "execution_count": 3,
     "metadata": {},
     "output_type": "execute_result"
    }
   ],
   "source": [
    "data.isnull().sum()"
   ]
  },
  {
   "cell_type": "code",
   "execution_count": 3,
   "metadata": {},
   "outputs": [],
   "source": [
    "# bin = [0,2,3,5,1501]\n",
    "# data['empnum_bin'] = pd.cut(data['empnum'],bins=bin, labels=False)\n",
    "# bin = [0,100,127900]\n",
    "# data['reccap_bin'] = pd.cut(data['reccap'],bins=bin, labels=False)\n",
    "# pd.cut(X['new_power'], bin)"
   ]
  },
  {
   "cell_type": "code",
   "execution_count": 3,
   "metadata": {},
   "outputs": [],
   "source": [
    "train_data=data[~data.label.isnull()]\n",
    "test_data=data[data.label.isnull()]\n",
    "train_data = train_data.reset_index(drop=True)\n",
    "test_data = test_data.reset_index(drop=True)"
   ]
  },
  {
   "cell_type": "code",
   "execution_count": 5,
   "metadata": {},
   "outputs": [],
   "source": [
    "# profile = train_data.profile_report(title=\"oil_data1\")\n",
    "# profile.to_file(output_file=\"oil_data1.html\")"
   ]
  },
  {
   "cell_type": "code",
   "execution_count": 6,
   "metadata": {},
   "outputs": [],
   "source": [
    "# skf = StratifiedKFold(n_splits=10, shuffle=True, random_state=2020)\n",
    "# enc_list = ['industryphy']\n",
    "# for f in tqdm(enc_list):\n",
    "#     train_data[f + '_target_enc'] = 0\n",
    "#     test_data[f + '_target_enc'] = 0\n",
    "#     for i, (trn_idx, val_idx) in enumerate(skf.split(train_data, train_data['label'])):\n",
    "#         trn_x = train_data[[f, 'label']].iloc[trn_idx].reset_index(drop=True)\n",
    "#         val_x = train_data[[f]].iloc[val_idx].reset_index(drop=True)\n",
    "#         enc_df = trn_x.groupby(f, as_index=False)['label'].agg({f + '_target_enc': 'mean'})\n",
    "#         val_x = val_x.merge(enc_df, on=f, how='left')\n",
    "#         test_x = test_data[[f]].merge(enc_df, on=f, how='left')\n",
    "#         val_x[f + '_target_enc'] = val_x[f + '_target_enc'].fillna(train_data['label'].mean())\n",
    "#         test_x[f + '_target_enc'] = test_x[f + '_target_enc'].fillna(train_data['label'].mean())\n",
    "#         train_data.loc[val_idx, f + '_target_enc'] = val_x[f + '_target_enc'].values\n",
    "#         test_data[f + '_target_enc'] += test_x[f + '_target_enc'].values / skf.n_splits"
   ]
  },
  {
   "cell_type": "code",
   "execution_count": 6,
   "metadata": {},
   "outputs": [],
   "source": [
    "fea = [i for i in train_data.columns if i not in ['id','label']]\n",
    "\n",
    "data = train_data[fea].copy()\n",
    "target = train_data['label'].copy()\n",
    "\n",
    "# smo=SMOTE(random_state=2020)\n",
    "# data,target=smo.fit_resample(data, target)\n",
    "# X_train,X_test,y_train,y_test = train_test_split(train_data[fea].values,train_data['label'],test_size=0.2,random_state=2020)"
   ]
  },
  {
   "cell_type": "code",
   "execution_count": 5,
   "metadata": {},
   "outputs": [],
   "source": [
    "def custom_f1_eval(y_true, y_pred):\n",
    "    y_pred_label = []\n",
    "    for i in y_pred:\n",
    "        if i<0.5:\n",
    "            y_pred_label.append(0)\n",
    "        else:\n",
    "            y_pred_label.append(1)\n",
    "\n",
    "    f1_mean = f1_score(y_true, y_pred_label)\n",
    "    \n",
    "    return \"f1\", f1_mean, True\n",
    " \n",
    "def f1_loss(y, pred):\n",
    "    beta = 2\n",
    "    p = 1. / (1 + np.exp(-pred))\n",
    "    grad = p * ((beta - 1) * y + 1) - beta * y\n",
    "    hess = ((beta - 1) * y + 1) * p * (1.0 - p)\n",
    " \n",
    "    return grad, hess"
   ]
  },
  {
   "cell_type": "code",
   "execution_count": 7,
   "metadata": {},
   "outputs": [
    {
     "data": {
      "text/plain": [
       "LGBMClassifier(bagging_fraction=0.8, feature_fraction=0.4, learning_rate=0.01,\n",
       "               max_depth=6, metric=None, min_data_in_leaf=16,\n",
       "               n_estimators=100000, num_leaves=63,\n",
       "               objective=<function f1_loss at 0x000001DD1D3A28B0>)"
      ]
     },
     "execution_count": 7,
     "metadata": {},
     "output_type": "execute_result"
    }
   ],
   "source": [
    "# model=lgb.LGBMClassifier(\n",
    "#             n_estimators=100000,\n",
    "#             num_leaves=63,\n",
    "#             learning_rate=0.01,\n",
    "#             max_depth=6,\n",
    "#             metric=None,\n",
    "#             feature_fraction= 0.4,\n",
    "#             bagging_fraction=0.8,\n",
    "#             min_data_in_leaf= 16,\n",
    "#             )\n",
    "# model.set_params(**{\"objective\": f1_loss})"
   ]
  },
  {
   "cell_type": "code",
   "execution_count": 9,
   "metadata": {
    "collapsed": true
   },
   "outputs": [
    {
     "name": "stdout",
     "output_type": "stream",
     "text": [
      "Training until validation scores don't improve for 200 rounds\n",
      "[100]\ttraining's f1: 0.837945\tvalid_1's f1: 0.795122\n",
      "[200]\ttraining's f1: 0.866242\tvalid_1's f1: 0.810304\n",
      "[300]\ttraining's f1: 0.88239\tvalid_1's f1: 0.827103\n",
      "[400]\ttraining's f1: 0.892132\tvalid_1's f1: 0.818605\n",
      "[500]\ttraining's f1: 0.902408\tvalid_1's f1: 0.830626\n",
      "[600]\ttraining's f1: 0.912192\tvalid_1's f1: 0.832558\n",
      "[700]\ttraining's f1: 0.920936\tvalid_1's f1: 0.834499\n",
      "Early stopping, best iteration is:\n",
      "[567]\ttraining's f1: 0.908286\tvalid_1's f1: 0.837209\n",
      "Training until validation scores don't improve for 200 rounds\n",
      "[100]\ttraining's f1: 0.843931\tvalid_1's f1: 0.793003\n",
      "[200]\ttraining's f1: 0.871007\tvalid_1's f1: 0.818428\n",
      "[300]\ttraining's f1: 0.880734\tvalid_1's f1: 0.834688\n",
      "[400]\ttraining's f1: 0.889563\tvalid_1's f1: 0.839572\n",
      "[500]\ttraining's f1: 0.900606\tvalid_1's f1: 0.837333\n",
      "Early stopping, best iteration is:\n",
      "[361]\ttraining's f1: 0.884146\tvalid_1's f1: 0.846361\n",
      "Training until validation scores don't improve for 200 rounds\n",
      "[100]\ttraining's f1: 0.837052\tvalid_1's f1: 0.822055\n",
      "[200]\ttraining's f1: 0.867827\tvalid_1's f1: 0.855792\n",
      "[300]\ttraining's f1: 0.876765\tvalid_1's f1: 0.85446\n",
      "Early stopping, best iteration is:\n",
      "[157]\ttraining's f1: 0.86511\tvalid_1's f1: 0.861905\n",
      "Training until validation scores don't improve for 200 rounds\n",
      "[100]\ttraining's f1: 0.841121\tvalid_1's f1: 0.827411\n",
      "[200]\ttraining's f1: 0.868455\tvalid_1's f1: 0.846715\n",
      "[300]\ttraining's f1: 0.879847\tvalid_1's f1: 0.855769\n",
      "[400]\ttraining's f1: 0.890428\tvalid_1's f1: 0.856459\n",
      "Early stopping, best iteration is:\n",
      "[271]\ttraining's f1: 0.875875\tvalid_1's f1: 0.858513\n",
      "Training until validation scores don't improve for 200 rounds\n",
      "[100]\ttraining's f1: 0.842038\tvalid_1's f1: 0.795389\n",
      "[200]\ttraining's f1: 0.872549\tvalid_1's f1: 0.805405\n",
      "[300]\ttraining's f1: 0.885346\tvalid_1's f1: 0.818681\n",
      "[400]\ttraining's f1: 0.90146\tvalid_1's f1: 0.827397\n",
      "[500]\ttraining's f1: 0.912938\tvalid_1's f1: 0.826087\n",
      "[600]\ttraining's f1: 0.918984\tvalid_1's f1: 0.823848\n",
      "Early stopping, best iteration is:\n",
      "[441]\ttraining's f1: 0.904791\tvalid_1's f1: 0.831522\n"
     ]
    }
   ],
   "source": [
    "# keys = []\n",
    "# sk = KFold(n_splits=5, shuffle=True,random_state=2020)\n",
    "# for train_, test_ in sk.split(data, target):\n",
    "#     x_train = data.iloc[train_]\n",
    "#     y_train = target.iloc[train_]\n",
    "#     x_test = data.iloc[test_]\n",
    "#     y_test = target.iloc[test_]\n",
    "#     model.fit(x_train,\n",
    "#               y_train,\n",
    "#               eval_set=[(x_train,y_train),(x_test,y_test)],\n",
    "#               eval_metric=lambda y_true, y_pred: [custom_f1_eval(y_true, y_pred)],\n",
    "#               early_stopping_rounds=200,\n",
    "#               verbose=100,\n",
    "#              )\n",
    "#     y_hat = model.predict(x_test)\n",
    "#     keys.append(model.predict(test_data[fea]))\n",
    "# keys = np.array(keys)\n",
    "# km = keys.mean(axis=0)"
   ]
  },
  {
   "cell_type": "code",
   "execution_count": 15,
   "metadata": {},
   "outputs": [],
   "source": [
    "# test_data['score']=km\n",
    "# test_data['score'] = test_data['score'].apply(lambda x: 1 if x>0.5 else 0)"
   ]
  },
  {
   "cell_type": "code",
   "execution_count": 10,
   "metadata": {
    "collapsed": true
   },
   "outputs": [
    {
     "name": "stdout",
     "output_type": "stream",
     "text": [
      "Training until validation scores don't improve for 200 rounds\n",
      "[100]\ttraining's f1: 0.851202\tvalid_1's f1: 0.816626\n",
      "[200]\ttraining's f1: 0.861635\tvalid_1's f1: 0.825175\n",
      "[300]\ttraining's f1: 0.87375\tvalid_1's f1: 0.831409\n",
      "[400]\ttraining's f1: 0.887351\tvalid_1's f1: 0.837209\n",
      "[500]\ttraining's f1: 0.89742\tvalid_1's f1: 0.84186\n",
      "[600]\ttraining's f1: 0.905779\tvalid_1's f1: 0.839161\n",
      "Early stopping, best iteration is:\n",
      "[492]\ttraining's f1: 0.896855\tvalid_1's f1: 0.84186\n"
     ]
    }
   ],
   "source": [
    "# 0.837209\n",
    "model=lgb.LGBMClassifier(\n",
    "            n_estimators=100000,\n",
    "            num_leaves=63,\n",
    "            learning_rate=0.01,\n",
    "            max_depth=6,\n",
    "            metric=None,\n",
    "            feature_fraction= 0.4,\n",
    "            bagging_fraction=0.8,\n",
    "            min_data_in_leaf= 16,\n",
    "            )\n",
    "model.set_params(**{\"objective\": f1_loss})\n",
    "model.fit(X_train,\n",
    "          y_train,\n",
    "          eval_set=[(X_train,y_train),(X_test,y_test)],\n",
    "          eval_metric=lambda y_true, y_pred: [custom_f1_eval(y_true, y_pred)],\n",
    "          early_stopping_rounds=200,\n",
    "          verbose=100,\n",
    "         )\n",
    "# ,num_iteration=model.best_iteration_\n",
    "pred=model.predict(test_data[fea])\n",
    "test_data['score']=pred"
   ]
  },
  {
   "cell_type": "code",
   "execution_count": 17,
   "metadata": {
    "collapsed": true
   },
   "outputs": [
    {
     "data": {
      "image/png": "[encoded data removed]",
      "text/plain": [
       "<Figure size 576x972 with 1 Axes>"
      ]
     },
     "metadata": {
      "needs_background": "light"
     },
     "output_type": "display_data"
    }
   ],
   "source": [
    "import shap\n",
    "explainer = shap.TreeExplainer(model)\n",
    "shap_values = explainer.shap_values(test_data[fea])\n",
    "shap.summary_plot(shap_values, test_data[fea], plot_type=\"bar\",max_display=30)\n",
    "# ,'exenum', forregcap'      "
   ]
  },
  {
   "cell_type": "code",
   "execution_count": 16,
   "metadata": {},
   "outputs": [],
   "source": [
    "test_data['score'] = test_data.groupby(['id'])['score'].transform('mean')\n",
    "test_data.drop_duplicates(['id'],keep='first',inplace=True)\n",
    "sub = pd.read_csv('../data/entprise_evaluate.csv')"
   ]
  },
  {
   "cell_type": "code",
   "execution_count": 17,
   "metadata": {},
   "outputs": [],
   "source": [
    "a = test_data[~test_data['exenum'].isin([np.nan])]\n",
    "a = a[~a['industryphy'].isin([9,10,11])]"
   ]
  },
  {
   "cell_type": "code",
   "execution_count": 18,
   "metadata": {
    "scrolled": true
   },
   "outputs": [
    {
     "data": {
      "text/plain": [
       "0"
      ]
     },
     "execution_count": 18,
     "metadata": {},
     "output_type": "execute_result"
    }
   ],
   "source": [
    "a['score'].max()"
   ]
  },
  {
   "cell_type": "code",
   "execution_count": 19,
   "metadata": {},
   "outputs": [],
   "source": [
    "sub.drop(['score'],axis=1,inplace=True)\n",
    "sub = sub.merge(test_data[['id','score']],on='id',how='left')\n",
    "sub.to_csv('result.csv',index=0)"
   ]
  },
  {
   "cell_type": "code",
   "execution_count": 20,
   "metadata": {},
   "outputs": [
    {
     "data": {
      "text/plain": [
       "37"
      ]
     },
     "execution_count": 20,
     "metadata": {},
     "output_type": "execute_result"
    }
   ],
   "source": [
    "count = 0\n",
    "a = pd.read_csv('0.8410.csv')\n",
    "b = pd.read_csv('result.csv')\n",
    "for i in range(len(b)):\n",
    "    if b.loc[i,'score']!=a.loc[i,'score']:\n",
    "        count += 1\n",
    "count"
   ]
  },
  {
   "cell_type": "code",
   "execution_count": 21,
   "metadata": {},
   "outputs": [
    {
     "data": {
      "text/plain": [
       "0    9088\n",
       "1     912\n",
       "Name: score, dtype: int64"
      ]
     },
     "execution_count": 21,
     "metadata": {},
     "output_type": "execute_result"
    }
   ],
   "source": [
    "test_data['score'].value_counts()"
   ]
  },
  {
   "cell_type": "code",
   "execution_count": 4,
   "metadata": {},
   "outputs": [
    {
     "data": {
      "text/plain": [
       "0    9091\n",
       "1     909\n",
       "Name: score, dtype: int64"
      ]
     },
     "execution_count": 4,
     "metadata": {},
     "output_type": "execute_result"
    }
   ],
   "source": [
    "b['score'].value_counts()"
   ]
  },
  {
   "cell_type": "code",
   "execution_count": 13,
   "metadata": {},
   "outputs": [
    {
     "data": {
      "text/plain": [
       "0.0    9079\n",
       "1.0     921\n",
       "Name: score, dtype: int64"
      ]
     },
     "execution_count": 13,
     "metadata": {},
     "output_type": "execute_result"
    }
   ],
   "source": [
    "pd.read_csv('0.8410.csv')['score'].value_counts()"
   ]
  },
  {
   "cell_type": "code",
   "execution_count": null,
   "metadata": {},
   "outputs": [],
   "source": []
  }
 ],
 "metadata": {
  "kernelspec": {
   "display_name": "Python 3",
   "language": "python",
   "name": "python3"
  },
  "language_info": {
   "codemirror_mode": {
    "name": "ipython",
    "version": 3
   },
   "file_extension": ".py",
   "mimetype": "text/x-python",
   "name": "python",
   "nbconvert_exporter": "python",
   "pygments_lexer": "ipython3",
   "version": "3.8.3"
  }
 },
 "nbformat": 4,
 "nbformat_minor": 4
}
