{
 "cells": [
  {
   "cell_type": "code",
   "execution_count": 1,
   "metadata": {},
   "outputs": [],
   "source": [
    "import pandas as pd\n",
    "import numpy as np\n",
    "from sklearn.feature_extraction.text import CountVectorizer, TfidfVectorizer\n",
    "from sklearn.decomposition import TruncatedSVD\n",
    "from sklearn.preprocessing import LabelEncoder\n",
    "from sklearn.metrics import f1_score\n",
    "from sklearn.model_selection import train_test_split\n",
    "from sklearn.model_selection import StratifiedKFold\n",
    "from sklearn.linear_model import LinearRegression\n",
    "from tqdm import tqdm\n",
    "import xgboost as xgb\n",
    "import lightgbm as lgb\n",
    "import catboost as ctb\n",
    "import matplotlib.pylab as plt\n",
    "import seaborn as sns\n",
    "import warnings\n",
    "warnings.filterwarnings('ignore')"
   ]
  },
  {
   "cell_type": "code",
   "execution_count": 2,
   "metadata": {},
   "outputs": [],
   "source": [
    "# df = pd.read_csv('../data/train/change_info.csv')\n",
    "# value = 'bgxmdm'"
   ]
  },
  {
   "cell_type": "code",
   "execution_count": 3,
   "metadata": {},
   "outputs": [],
   "source": [
    "# df[value] = df[value].astype(str)\n",
    "# df[value].fillna('-1', inplace=True)\n",
    "# group_df = df.groupby(['id']).apply(lambda x: x[value].tolist()).reset_index()\n",
    "# group_df.columns = ['id', 'list']\n",
    "# group_df['list'] = group_df['list'].apply(lambda x: ','.join(x))\n",
    "# enc_vec = TfidfVectorizer()\n",
    "# tfidf_vec = enc_vec.fit_transform(group_df['list'])"
   ]
  },
  {
   "cell_type": "code",
   "execution_count": 4,
   "metadata": {},
   "outputs": [],
   "source": [
    "# svd_enc = TruncatedSVD(n_components=4, n_iter=20, random_state=2020)\n",
    "# vec_svd = svd_enc.fit_transform(tfidf_vec)"
   ]
  },
  {
   "cell_type": "code",
   "execution_count": 5,
   "metadata": {},
   "outputs": [],
   "source": [
    "# tfidf_vec"
   ]
  },
  {
   "cell_type": "code",
   "execution_count": 6,
   "metadata": {},
   "outputs": [],
   "source": [
    "def gen_user_tfidf_features(df, value,n):\n",
    "    df[value] = df[value].astype(str)\n",
    "    df[value].fillna('-1', inplace=True)\n",
    "    group_df = df.groupby(['id']).apply(lambda x: x[value].tolist()).reset_index()\n",
    "    group_df.columns = ['id', 'list']\n",
    "    group_df['list'] = group_df['list'].apply(lambda x: ','.join(x))\n",
    "    enc_vec = TfidfVectorizer()\n",
    "    tfidf_vec = enc_vec.fit_transform(group_df['list'])\n",
    "    svd_enc = TruncatedSVD(n_components=n, n_iter=20, random_state=2020)\n",
    "    vec_svd = svd_enc.fit_transform(tfidf_vec)\n",
    "    vec_svd = pd.DataFrame(vec_svd)\n",
    "    vec_svd.columns = ['svd_tfidf_{}_{}'.format(value, i) for i in range(n)]\n",
    "    group_df = pd.concat([group_df, vec_svd], axis=1)\n",
    "    del group_df['list']\n",
    "    return group_df\n",
    "\n",
    "def gen_user_countvec_features(df, value,n):\n",
    "    df[value] = df[value].astype(str)\n",
    "    df[value].fillna('-1', inplace=True)\n",
    "    group_df = df.groupby(['id']).apply(lambda x: x[value].tolist()).reset_index()\n",
    "    group_df.columns = ['id', 'list']\n",
    "    group_df['list'] = group_df['list'].apply(lambda x: ','.join(x))\n",
    "    enc_vec = CountVectorizer()\n",
    "    tfidf_vec = enc_vec.fit_transform(group_df['list'])\n",
    "    svd_enc = TruncatedSVD(n_components=n, n_iter=20, random_state=2020)\n",
    "    vec_svd = svd_enc.fit_transform(tfidf_vec)\n",
    "    vec_svd = pd.DataFrame(vec_svd)\n",
    "    vec_svd.columns = ['svd_countvec_{}_{}'.format(value, i) for i in range(n)]\n",
    "    group_df = pd.concat([group_df, vec_svd], axis=1)\n",
    "    del group_df['list']\n",
    "    return group_df"
   ]
  },
  {
   "cell_type": "code",
   "execution_count": 7,
   "metadata": {},
   "outputs": [],
   "source": [
    "def df2_group_FUNDAM_features(df, value):\n",
    "    group_df = df.pivot_table(index='id',\n",
    "                              columns=value,\n",
    "                              values='FUNDAM',\n",
    "                              dropna=False,\n",
    "                              aggfunc=['mean', 'count']).fillna(0)\n",
    "\n",
    "    group_df.columns = ['id_{}_{}_FUNDAM_{}'.format(value, f[1], f[0]) for f in group_df.columns]\n",
    "    group_df.reset_index(inplace=True)\n",
    "    \n",
    "    return group_df"
   ]
  },
  {
   "cell_type": "code",
   "execution_count": 8,
   "metadata": {},
   "outputs": [],
   "source": [
    "def get_en_10(data,cols):\n",
    "    train_data=data[~data.label.isnull()]\n",
    "    test_data=data[data.label.isnull()]\n",
    "    train_data = train_data.reset_index(drop=True)\n",
    "    test_data = test_data.reset_index(drop=True)\n",
    "    \n",
    "    new_col = ['id']\n",
    "    \n",
    "    skf = StratifiedKFold(n_splits=10, shuffle=True, random_state=2020)\n",
    "    enc_list = cols\n",
    "    for f in tqdm(enc_list):\n",
    "        train_data[f + '_target_enc'] = 0\n",
    "        test_data[f + '_target_enc'] = 0\n",
    "        for i, (trn_idx, val_idx) in enumerate(skf.split(train_data, train_data['label'])):\n",
    "            trn_x = train_data[[f, 'label']].iloc[trn_idx].reset_index(drop=True)\n",
    "            val_x = train_data[[f]].iloc[val_idx].reset_index(drop=True)\n",
    "            enc_df = trn_x.groupby(f, as_index=False)['label'].agg({f + '_target_enc': 'mean'})\n",
    "            val_x = val_x.merge(enc_df, on=f, how='left')\n",
    "            test_x = test_data[[f]].merge(enc_df, on=f, how='left')\n",
    "            val_x[f + '_target_enc'] = val_x[f + '_target_enc'].fillna(train_data['label'].mean())\n",
    "            test_x[f + '_target_enc'] = test_x[f + '_target_enc'].fillna(train_data['label'].mean())\n",
    "            train_data.loc[val_idx, f + '_target_enc'] = val_x[f + '_target_enc'].values\n",
    "            test_data[f + '_target_enc'] += test_x[f + '_target_enc'].values / skf.n_splits\n",
    "            new_col.append(f + '_target_enc')\n",
    "            \n",
    "    data=pd.concat([train_data,test_data],ignore_index=True)\n",
    "    return data,new_col"
   ]
  },
  {
   "cell_type": "code",
   "execution_count": 9,
   "metadata": {},
   "outputs": [],
   "source": [
    "# pd.read_csv('../data/train/tax_info.csv')"
   ]
  },
  {
   "cell_type": "code",
   "execution_count": 10,
   "metadata": {},
   "outputs": [],
   "source": [
    "def deal_df3():\n",
    "    df3 = pd.read_csv('../data/train/tax_info.csv')\n",
    "    df_create = df3.groupby(['id'])['END_DATE'].count().reset_index()\n",
    "    \n",
    "#     df_create = df_create.merge(gen_user_tfidf_features(df=df3, value='TAX_CATEGORIES',n=3), on=['id'], how='left')\n",
    "#     df_create = df_create.merge(gen_user_countvec_features(df=df3, value='TAX_CATEGORIES',n=3), on=['id'], how='left')\n",
    "    \n",
    "#     df_create = df_create.merge(gen_user_tfidf_features(df=df3, value='TAX_ITEMS',n=3), on=['id'], how='left')\n",
    "#     df_create = df_create.merge(gen_user_countvec_features(df=df3, value='TAX_ITEMS',n=3), on=['id'], how='left')\n",
    "    \n",
    "    df_create['TAX_AMOUNT_sum'] = df3.groupby(['id'])['TAX_AMOUNT'].transform('sum')\n",
    "    df_create['TAX_AMOUNT_mean'] = df3.groupby(['id'])['TAX_AMOUNT'].transform('mean')\n",
    "    \n",
    "    del df_create['END_DATE']\n",
    "    return df_create"
   ]
  },
  {
   "cell_type": "code",
   "execution_count": 11,
   "metadata": {},
   "outputs": [],
   "source": [
    "def deal_df4():\n",
    "    df4 = pd.read_csv('../data/train/change_info.csv')\n",
    "    df_create = df4.groupby(['id'])['bgrq'].count().reset_index()\n",
    "    \n",
    "    df_create = df_create.merge(gen_user_tfidf_features(df=df4, value='bgxmdm',n=5), on=['id'], how='left')\n",
    "    df_create = df_create.merge(gen_user_countvec_features(df=df4, value='bgxmdm',n=5), on=['id'], how='left')\n",
    "    \n",
    "    df_create = df_create.merge(gen_user_tfidf_features(df=df4, value='bgq',n=5), on=['id'], how='left')\n",
    "    df_create = df_create.merge(gen_user_countvec_features(df=df4, value='bgq',n=5), on=['id'], how='left')\n",
    "    \n",
    "    df_create = df_create.merge(gen_user_tfidf_features(df=df4, value='bgh',n=5), on=['id'], how='left')\n",
    "    df_create = df_create.merge(gen_user_countvec_features(df=df4, value='bgh',n=5), on=['id'], how='left')\n",
    "    \n",
    "    del df_create['bgrq']\n",
    "    return df_create"
   ]
  },
  {
   "cell_type": "code",
   "execution_count": 12,
   "metadata": {},
   "outputs": [],
   "source": [
    "def deal_df5():\n",
    "    df5 = pd.read_csv('../data/train/news_info.csv')\n",
    "    df_create = df5.groupby(['id'])['public_date'].count().reset_index()\n",
    "    \n",
    "    df_create = df_create.merge(gen_user_tfidf_features(df=df5, value='positive_negtive',n=2), on=['id'], how='left')\n",
    "    df_create = df_create.merge(gen_user_countvec_features(df=df5, value='positive_negtive',n=2), on=['id'], how='left')\n",
    "    del df_create['public_date']\n",
    "    return df_create"
   ]
  },
  {
   "cell_type": "code",
   "execution_count": 13,
   "metadata": {},
   "outputs": [],
   "source": [
    "def deal_df2():\n",
    "    df2 = pd.read_csv('../data/train/annual_report_info.csv')\n",
    "#     label = pd.read_csv('../data/train/entprise_info.csv')\n",
    "#     df2 = df2.merge(label,on=['id'],how='left')\n",
    "    \n",
    "    df_create = df2.groupby(['id'])['ANCHEYEAR'].count().reset_index()\n",
    "    df_create.columns = ['id','all_year']\n",
    "    \n",
    "#     df_create = df_create.merge(gen_user_tfidf_features(df=df2, value='FUNDAM',n=4), on=['id'], how='left')\n",
    "#     df_create = df_create.merge(gen_user_countvec_features(df=df2, value='FUNDAM',n=4), on=['id'], how='left')\n",
    "    \n",
    "#     cols = ['STATE','EMPNUMSIGN','WEBSITSIGN','FORINVESTSIGN','STOCKTRANSIGN','PUBSTATE','BUSSTNAME']\n",
    "#     data,new_cols = get_en_10(df2,cols)\n",
    "    \n",
    "#     data = data[new_cols]\n",
    "#     data.drop_duplicates(['id'],keep='first',inplace=True)\n",
    "    \n",
    "#     cols = ['STATE','EMPNUMSIGN','WEBSITSIGN','FORINVESTSIGN','STOCKTRANSIGN','PUBSTATE','BUSSTNAME','ANCHEYEAR']\n",
    "#     for col in cols:\n",
    "#         a = df2.groupby(['id'])[col].value_counts().unstack().fillna(0)\n",
    "#         for i in a.columns:\n",
    "#             df_create[col + '_'+str(i)+'_all']=df_create['id'].map(dict(a[i]))\n",
    "#             df_create[col + '_'+str(i)+'_all'].fillna(0,inplace=True)\n",
    "    \n",
    "#     cols = ['FUNDAM','MEMNUM','FARNUM','ANNNEWMEMNUM','ANNREDMEMNUM','EMPNUM','COLGRANUM','RETSOLNUM','DISPERNUM',\n",
    "#        'UNENUM','COLEMPLNUM','RETEMPLNUM','DISEMPLNUM','UNEEMPLNUM']\n",
    "#     for col in cols:\n",
    "#         df_create['mean_'+col]=df_create['id'].map(dict(df2.groupby(['id'])[col].mean()))\n",
    "\n",
    "    del df_create['all_year']\n",
    "    return df_create"
   ]
  },
  {
   "cell_type": "code",
   "execution_count": 14,
   "metadata": {},
   "outputs": [],
   "source": [
    "def deal_df1():\n",
    "    data = pd.read_csv('../data/train/base_info.csv')\n",
    "#     data['opscope'] = data['opscope'].apply(lambda x: x.split('（依法须经批准的项目，经相关部门批准后方可开展经营活动）')[0])\n",
    "    data['opfrom'] = pd.to_datetime(data['opfrom'])\n",
    "    data['opto'] = pd.to_datetime(data['opto'])\n",
    "    data['use_time'] = (data['opto'] - data['opfrom']).dt.days\n",
    "    \n",
    "#     data['rate'] = data['reccap'] / data['regcap']\n",
    "    \n",
    "    data['opform'].fillna('0',inplace=True)\n",
    "    Dis_cols = ['oplocdistrict','industryphy','industryco','dom','enttype','enttypeitem','state',\n",
    "           'orgid','jobid','opform','enttypeminu','protype','oploc','enttypegb']\n",
    "    for f in tqdm(Dis_cols):\n",
    "        le=LabelEncoder()\n",
    "        data[f]=le.fit_transform(data[f])\n",
    "        \n",
    "#     data = data.merge(gen_user_tfidf_features(df=data, value='opscope',n=3), on=['id'], how='left')\n",
    "#     data = data.merge(gen_user_countvec_features(df=data, value='opscope',n=3), on=['id'], how='left')\n",
    "    \n",
    "    data.drop(['opfrom','opto','ptbusscope','midpreindcode','opscope','parnum','congro',\n",
    "              'forreccap'],axis=1,inplace=True)\n",
    "    return data"
   ]
  },
  {
   "cell_type": "code",
   "execution_count": 15,
   "metadata": {},
   "outputs": [],
   "source": [
    "def deal_df6():\n",
    "    df6 = pd.read_csv('../data/train/other_info.csv')\n",
    "    df6['legal_judgment_num'] = df6.groupby(['id'])['legal_judgment_num'].transform('mean')\n",
    "    df6['brand_num'] = df6.groupby(['id'])['brand_num'].transform('mean')\n",
    "#     df6['patent_num'] = df6.groupby(['id'])['patent_num'].transform('sum')\n",
    "    df6.drop_duplicates(['id'],keep='first',inplace=True)\n",
    "    return df6"
   ]
  },
  {
   "cell_type": "code",
   "execution_count": 16,
   "metadata": {
    "scrolled": true
   },
   "outputs": [
    {
     "name": "stderr",
     "output_type": "stream",
     "text": [
      "100%|█████████████████████████████████████████████████████████████████████████████████| 14/14 [00:00<00:00, 150.94it/s]\n"
     ]
    }
   ],
   "source": [
    "df1 = deal_df1()\n",
    "# df1_opscope = pd.read_pickle('opscope.pkl')\n",
    "# df1 = pd.concat((df1,df1_opscope),axis=1)\n",
    "df5 = deal_df5()\n",
    "# df6 = deal_df6()\n",
    "label = pd.read_csv('../data/train/entprise_info.csv')"
   ]
  },
  {
   "cell_type": "code",
   "execution_count": 17,
   "metadata": {},
   "outputs": [],
   "source": [
    "data = df1.merge(label,on=['id'],how='left')\n",
    "data = data.merge(df5,on='id',how='left')\n",
    "# data = data.merge(df6,on=['id'],how='left')"
   ]
  },
  {
   "cell_type": "code",
   "execution_count": 18,
   "metadata": {},
   "outputs": [],
   "source": [
    "# df1['empnum'].fillna(df1['empnum'].median(),inplace=True)"
   ]
  },
  {
   "cell_type": "code",
   "execution_count": 19,
   "metadata": {},
   "outputs": [],
   "source": [
    "# a = data[~data['exenum'].isin([np.nan])]"
   ]
  },
  {
   "cell_type": "code",
   "execution_count": 20,
   "metadata": {},
   "outputs": [],
   "source": [
    "# a[a['label']==1][['industryphy','exenum']]"
   ]
  },
  {
   "cell_type": "code",
   "execution_count": 21,
   "metadata": {},
   "outputs": [],
   "source": [
    "# a[a['label'] == 1]['industryphy'].value_counts()"
   ]
  },
  {
   "cell_type": "code",
   "execution_count": 22,
   "metadata": {},
   "outputs": [],
   "source": [
    "# import seaborn as sns\n",
    "# sns.scatterplot(x='industryphy',y='rate',data=data,hue='label')"
   ]
  },
  {
   "cell_type": "code",
   "execution_count": 23,
   "metadata": {},
   "outputs": [],
   "source": [
    "# data.groupby(['label'])['exenum'].mean()"
   ]
  },
  {
   "cell_type": "code",
   "execution_count": 24,
   "metadata": {},
   "outputs": [],
   "source": [
    "# df1['forregcap'].unique()"
   ]
  },
  {
   "cell_type": "code",
   "execution_count": 25,
   "metadata": {},
   "outputs": [],
   "source": [
    "# df1.isnull().sum()"
   ]
  },
  {
   "cell_type": "code",
   "execution_count": 18,
   "metadata": {},
   "outputs": [],
   "source": [
    "data.to_csv('fea_data/data.csv',index=0)"
   ]
  },
  {
   "cell_type": "code",
   "execution_count": null,
   "metadata": {
    "scrolled": true
   },
   "outputs": [],
   "source": [
    "# skf = StratifiedKFold(n_splits=10, shuffle=True, random_state=2020)\n",
    "# enc_list = ['regcap']\n",
    "# for f in tqdm(enc_list):\n",
    "#     train_data[f + '_target_enc'] = 0\n",
    "#     test_data[f + '_target_enc'] = 0\n",
    "#     for i, (trn_idx, val_idx) in enumerate(skf.split(train_data, train_data['label'])):\n",
    "#         trn_x = train_data[[f, 'label']].iloc[trn_idx].reset_index(drop=True)\n",
    "#         val_x = train_data[[f]].iloc[val_idx].reset_index(drop=True)\n",
    "#         enc_df = trn_x.groupby(f, as_index=False)['label'].agg({f + '_target_enc': 'mean'})\n",
    "#         val_x = val_x.merge(enc_df, on=f, how='left')\n",
    "#         test_x = test_data[[f]].merge(enc_df, on=f, how='left')\n",
    "#         val_x[f + '_target_enc'] = val_x[f + '_target_enc'].fillna(train_data['label'].mean())\n",
    "#         test_x[f + '_target_enc'] = test_x[f + '_target_enc'].fillna(train_data['label'].mean())\n",
    "#         train_data.loc[val_idx, f + '_target_enc'] = val_x[f + '_target_enc'].values\n",
    "#         test_data[f + '_target_enc'] += test_x[f + '_target_enc'].values / skf.n_splits"
   ]
  },
  {
   "cell_type": "code",
   "execution_count": null,
   "metadata": {
    "scrolled": true
   },
   "outputs": [],
   "source": [
    "# def lgb_reg_train(pout_train, test_df, target):\n",
    "#     folds = StratifiedKFold(n_splits=10, shuffle=True, random_state=666)\n",
    "#     oof = np.zeros(len(pout_train))\n",
    "#     predictions = np.zeros(len(test_df))\n",
    "\n",
    "#     for fold_, (trn_idx, val_idx) in enumerate(folds.split(pout_train.values, target)):\n",
    "#         clf = xgb.XGBRegressor()\n",
    "#         clf.fit(pout_train.values[trn_idx],target[trn_idx])\n",
    "#         oof[val_idx] = clf.predict(pout_train.values[val_idx])\n",
    "#         predictions += clf.predict(test_df.values) / folds.n_splits\n",
    "\n",
    "#     return oof, predictions\n",
    "\n",
    "# train_oof, test_pre = lgb_reg_train(train_data[fea], test_data[fea], train_data['label'])\n",
    "\n",
    "# train_data['sign'] = train_oof\n",
    "# test_data['sign'] = test_pre\n",
    "# fea = [i for i in train_data.columns if i not in ['id','label']]"
   ]
  },
  {
   "cell_type": "code",
   "execution_count": null,
   "metadata": {},
   "outputs": [],
   "source": []
  }
 ],
 "metadata": {
  "kernelspec": {
   "display_name": "Python 3",
   "language": "python",
   "name": "python3"
  },
  "language_info": {
   "codemirror_mode": {
    "name": "ipython",
    "version": 3
   },
   "file_extension": ".py",
   "mimetype": "text/x-python",
   "name": "python",
   "nbconvert_exporter": "python",
   "pygments_lexer": "ipython3",
   "version": "3.8.5"
  }
 },
 "nbformat": 4,
 "nbformat_minor": 4
}
